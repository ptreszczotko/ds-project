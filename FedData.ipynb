{
 "cells": [
  {
   "cell_type": "code",
   "execution_count": 4,
   "metadata": {
    "collapsed": false,
    "deletable": true,
    "editable": true
   },
   "outputs": [],
   "source": [
    "import pandas as pd\n",
    "import numpy as np\n",
    "import matplotlib.pyplot as plt\n",
    "import matplotlib.style as style\n",
    "#import seaborn as sns; sns.set()\n",
    "style.use('fivethirtyeight')\n",
    "#formatting $$\n",
    "import matplotlib.ticker as mtick\n",
    "%matplotlib inline\n",
    "\n",
    "#utility functions\n",
    "from cleanup_utilities import misc\n"
   ]
  },
  {
   "cell_type": "code",
   "execution_count": 6,
   "metadata": {
    "collapsed": false,
    "deletable": true,
    "editable": true
   },
   "outputs": [
    {
     "name": "stdout",
     "output_type": "stream",
     "text": [
      "3890712 -rw-r--r--  1 ptreszczotko  staff   1.9G Sep 14 09:00 ./data/fpdsAllCSV.csv\r\n",
      "  89952 -rw-r--r--  1 ptreszczotko  staff    44M Sep 13 11:09 ./data/fpdsAllCSV100k.csv\r\n"
     ]
    }
   ],
   "source": [
    "!ls -lash ./data/*.csv"
   ]
  },
  {
   "cell_type": "markdown",
   "metadata": {
    "deletable": true,
    "editable": true
   },
   "source": [
    "# Read in 2016 federal spending data"
   ]
  },
  {
   "cell_type": "code",
   "execution_count": 9,
   "metadata": {
    "collapsed": false,
    "deletable": true,
    "editable": true
   },
   "outputs": [
    {
     "name": "stderr",
     "output_type": "stream",
     "text": [
      "/Library/Frameworks/Python.framework/Versions/3.6/lib/python3.6/site-packages/IPython/core/interactiveshell.py:2717: DtypeWarning: Columns (4,13,15,19,23,40,44,45) have mixed types. Specify dtype option on import or set low_memory=False.\n",
      "  interactivity=interactivity, compiler=compiler, result=result)\n"
     ]
    }
   ],
   "source": [
    "#Bring in fpds 2016 data \n",
    "#this didnt work on a laptop with 16GBs of RAM\n",
    "df = pd.read_csv('./data/fpdsAllCSV.csv',low_memory=True, dtype={'agencyID': str, 'PIID': str, 'modNumber': str, 'transactionNumber': int, 'obligatedAmount': float, 'baseAndExercisedOptionsValue': float, 'baseAndAllOptionsValue': float , 'DUNSNumber': str})\n",
    "\n"
   ]
  },
  {
   "cell_type": "code",
   "execution_count": 10,
   "metadata": {
    "collapsed": false,
    "deletable": true,
    "editable": true
   },
   "outputs": [
    {
     "data": {
      "text/html": [
       "<div>\n",
       "<table border=\"1\" class=\"dataframe\">\n",
       "  <thead>\n",
       "    <tr style=\"text-align: right;\">\n",
       "      <th></th>\n",
       "      <th>agencyID</th>\n",
       "      <th>PIID</th>\n",
       "      <th>modNumber</th>\n",
       "      <th>transactionNumber</th>\n",
       "      <th>IDVAgencyID</th>\n",
       "      <th>IDVPIID</th>\n",
       "      <th>IDVModificationNumber</th>\n",
       "      <th>signedDate</th>\n",
       "      <th>effectiveDate</th>\n",
       "      <th>currentCompletionDate</th>\n",
       "      <th>...</th>\n",
       "      <th>placeOfPerformanceCongressionalDistrict</th>\n",
       "      <th>extentCompeted</th>\n",
       "      <th>solicitationProcedures</th>\n",
       "      <th>typeOfSetAside</th>\n",
       "      <th>evaluatedPreference</th>\n",
       "      <th>numberOfOffersReceived</th>\n",
       "      <th>fedBizOpps</th>\n",
       "      <th>createdBy</th>\n",
       "      <th>lastModifiedBy</th>\n",
       "      <th>status</th>\n",
       "    </tr>\n",
       "  </thead>\n",
       "  <tbody>\n",
       "    <tr>\n",
       "      <th>887489</th>\n",
       "      <td>3600</td>\n",
       "      <td>VA25515F0044</td>\n",
       "      <td>P00003</td>\n",
       "      <td>0</td>\n",
       "      <td>3600</td>\n",
       "      <td>V797P4237B</td>\n",
       "      <td>0</td>\n",
       "      <td>2015-10-09</td>\n",
       "      <td>2015-10-01</td>\n",
       "      <td>2016-09-30</td>\n",
       "      <td>...</td>\n",
       "      <td>A</td>\n",
       "      <td>NaN</td>\n",
       "      <td>NONE</td>\n",
       "      <td>NONE</td>\n",
       "      <td>NaN</td>\n",
       "      <td>0</td>\n",
       "      <td>N</td>\n",
       "      <td>2015-10-09 15:32:07</td>\n",
       "      <td>2017-03-01 10:25:40</td>\n",
       "      <td>NaN</td>\n",
       "    </tr>\n",
       "  </tbody>\n",
       "</table>\n",
       "<p>1 rows × 55 columns</p>\n",
       "</div>"
      ],
      "text/plain": [
       "       agencyID          PIID modNumber  transactionNumber IDVAgencyID  \\\n",
       "887489     3600  VA25515F0044    P00003                  0        3600   \n",
       "\n",
       "           IDVPIID IDVModificationNumber  signedDate effectiveDate  \\\n",
       "887489  V797P4237B                     0  2015-10-09    2015-10-01   \n",
       "\n",
       "       currentCompletionDate  ...    placeOfPerformanceCongressionalDistrict  \\\n",
       "887489            2016-09-30  ...                                          A   \n",
       "\n",
       "        extentCompeted  solicitationProcedures typeOfSetAside  \\\n",
       "887489             NaN                    NONE           NONE   \n",
       "\n",
       "       evaluatedPreference numberOfOffersReceived fedBizOpps  \\\n",
       "887489                 NaN                      0          N   \n",
       "\n",
       "                  createdBy       lastModifiedBy status  \n",
       "887489  2015-10-09 15:32:07  2017-03-01 10:25:40    NaN  \n",
       "\n",
       "[1 rows x 55 columns]"
      ]
     },
     "execution_count": 10,
     "metadata": {},
     "output_type": "execute_result"
    }
   ],
   "source": [
    "#how many columns were shifted during the import process?\n",
    "badRows = df[df['status'] != 'F'] # should I drop them?\n",
    "badRows.head(1)"
   ]
  },
  {
   "cell_type": "markdown",
   "metadata": {
    "deletable": true,
    "editable": true
   },
   "source": [
    "# A bit of EDA first..."
   ]
  },
  {
   "cell_type": "markdown",
   "metadata": {
    "deletable": true,
    "editable": true
   },
   "source": [
    "### Look at agencies that spend the most"
   ]
  },
  {
   "cell_type": "code",
   "execution_count": 11,
   "metadata": {
    "collapsed": false,
    "deletable": true,
    "editable": true
   },
   "outputs": [
    {
     "data": {
      "image/png": "[encoded data removed]",
      "text/plain": [
       "<matplotlib.figure.Figure at 0x10b8dcc88>"
      ]
     },
     "metadata": {},
     "output_type": "display_data"
    }
   ],
   "source": [
    "top_n = 10\n",
    "mostSpent = df.groupby('agencyID')['obligatedAmount'].sum().sort_values(ascending=False)[:top_n]\n",
    "leastSpent = df.groupby('agencyID')['obligatedAmount'].sum().sort_values(ascending=True)\n",
    "\n",
    "#spending grater than 0\n",
    "leastSpent = leastSpent[leastSpent > 0][:top_n]\n",
    "\n",
    "fig, (ax1, ax2) = plt.subplots(2, 1, figsize=(12, 12))\n",
    "\n",
    "mostSpent.plot(kind='bar', x=mostSpent.index,y=mostSpent,\n",
    "        align='center', width=.5, edgecolor='none', \n",
    "        color='green', ax=ax1, rot=1)\n",
    "\n",
    "ax1.set_title('Top ' + str(top_n) + ' Agencies by spending',fontsize=14, fontweight='bold')\n",
    "ax1.yaxis.set_major_formatter(mtick.FuncFormatter(lambda x, p: misc.millify(x))) \n",
    "\n",
    "leastSpent.plot(kind='bar', x=mostSpent.index,y=mostSpent,\n",
    "        align='center', width=.5, edgecolor='none', \n",
    "        color='gray', ax=ax2, rot=1)\n",
    "\n",
    "ax2.set_title('Bottom ' + str(top_n) + ' Agencies by spending',fontsize=14, fontweight='bold')\n",
    "ax2.yaxis.set_major_formatter(mtick.FuncFormatter(lambda x, p: misc.millify(x))) \n"
   ]
  },
  {
   "cell_type": "markdown",
   "metadata": {
    "deletable": true,
    "editable": true
   },
   "source": [
    "### Convert AgencyIDs to their corresponding names"
   ]
  },
  {
   "cell_type": "code",
   "execution_count": 12,
   "metadata": {
    "collapsed": false,
    "deletable": true,
    "editable": true
   },
   "outputs": [
    {
     "data": {
      "text/plain": [
       "array([], dtype=object)"
      ]
     },
     "execution_count": 12,
     "metadata": {},
     "output_type": "execute_result"
    }
   ],
   "source": [
    "# Get another data set that maps agencyIds to their names\n",
    "## Need to import FIPS-95\n",
    "\n",
    "#import agecncyIds from FIPS 95-2\n",
    "agencyNames = pd.read_csv('https://docs.google.com/spreadsheets/d/e/2PACX-1vR9NFxZhw7nn8RkJ7Y6UIjSbTObYlcNgwtlA9_dnaSFb2wmbEijgyEVCleQl6rwxxq61UhzgLm2Azmq/pub?output=csv', index_col='agencyID')\n",
    "departmentName = pd.read_csv('https://docs.google.com/spreadsheets/d/e/2PACX-1vR9NFxZhw7nn8RkJ7Y6UIjSbTObYlcNgwtlA9_dnaSFb2wmbEijgyEVCleQl6rwxxq61UhzgLm2Azmq/pub?output=csv', index_col='departmentID')\n",
    "\n",
    "#find agencies that are not in the lookup table and add them manually\n",
    "missingAgencyIDs = df[~df['agencyID'].isin(agencyNames.index)]['agencyID'].unique()\n",
    "\n",
    "#proceed when all agencies are filled in\n",
    "missingAgencyIDs"
   ]
  },
  {
   "cell_type": "code",
   "execution_count": 14,
   "metadata": {
    "collapsed": false,
    "deletable": true,
    "editable": true
   },
   "outputs": [],
   "source": [
    "# add agency names to mostSpent data frame\n",
    "mostSpentWithNames = pd.merge(agencyNames,pd.DataFrame(mostSpent), left_index = True, right_index = True)"
   ]
  },
  {
   "cell_type": "code",
   "execution_count": 17,
   "metadata": {
    "collapsed": false,
    "deletable": true,
    "editable": true
   },
   "outputs": [
    {
     "name": "stdout",
     "output_type": "stream",
     "text": [
      "High five! You successfuly sent some data to your account on plotly. View your plot in your browser at https://plot.ly/~ptreszczotko/0 or inside your plot.ly account where it is named 'd3-cloropleth-map'\n"
     ]
    },
    {
     "data": {
      "text/html": [
       "<iframe id=\"igraph\" scrolling=\"no\" style=\"border:none;\" seamless=\"seamless\" src=\"https://plot.ly/~ptreszczotko/0.embed\" height=\"525px\" width=\"100%\"></iframe>"
      ],
      "text/plain": [
       "<plotly.tools.PlotlyDisplay object>"
      ]
     },
     "execution_count": 17,
     "metadata": {},
     "output_type": "execute_result"
    }
   ],
   "source": [
    "import pandas as pd\n",
    "import plotly as plotly\n",
    "#this is a free tier... let others use my api key :)\n",
    "plotly.tools.set_credentials_file(username='ptreszczotko', api_key='Q5qCy6iLHSjNZznTDEXS');\n",
    "\n",
    "graphData = pd.DataFrame(columns=['numberOfContracts'])\n",
    "graphData['numberOfContracts'] = df[df['countryCode'] == 'USA']['state'].value_counts()\n",
    "graphData['obligatedAmountPerState'] = df.groupby(df[df['countryCode'] == 'USA']['state'])['obligatedAmount'].sum()\n",
    "graphData['text'] = graphData.index +'\\'s total obligated amount: '+ graphData['obligatedAmountPerState'].apply(lambda x: misc.millify(x)).astype(str)\n",
    "\n",
    "data = [ dict(\n",
    "        type='choropleth',\n",
    "        # Colorblind-friendly colors\n",
    "        autocolorscale = True,\n",
    "        locations = graphData.index,\n",
    "        z = graphData['numberOfContracts'],\n",
    "        locationmode = 'USA-states',\n",
    "        text = graphData['text'],\n",
    "        marker = dict(\n",
    "            line = dict (\n",
    "                color = 'rgb(255,255,255)',\n",
    "                width = 2\n",
    "            ) ),\n",
    "        colorbar = dict(\n",
    "            title = \"Number of contracts\")\n",
    "        ) ]\n",
    "\n",
    "layout = dict(\n",
    "        title = 'Number of contracts awarded in FY2016 per state.',\n",
    "        geo = dict(\n",
    "            scope='usa',\n",
    "            projection=dict( type='albers usa' ),\n",
    "            showlakes = True,\n",
    "            lakecolor = 'rgb(255, 255, 255)'))\n",
    "    \n",
    "fig = dict( data=data, layout=layout );\n",
    "plotly.plotly.iplot( fig, filename='d3-cloropleth-map' )"
   ]
  },
  {
   "cell_type": "code",
   "execution_count": 45,
   "metadata": {
    "collapsed": false
   },
   "outputs": [],
   "source": [
    "#try clustering by $ figures\n",
    "\n",
    "#are there any contracts with null or NA contract value?\n",
    "df[df['obligatedAmount'].isnull()].shape[0]\n",
    "\n",
    "df[df.columns[20:49]]\n",
    "#vendorName or vendorLegalOrganizationName, productOrServiceCode, principalNAICSCode\n",
    "\n",
    "\n",
    "from sklearn.cluster import KMeans\n",
    "import seaborn as sns; sns.set()\n",
    "\n",
    "X = df[['obligatedAmount','vendorName', 'productOrServiceCode', 'principalNAICSCode', 'numberOfEmployees']]\n",
    "X.set_index('vendorName', inplace=True)\n",
    "\n"
   ]
  },
  {
   "cell_type": "code",
   "execution_count": null,
   "metadata": {
    "collapsed": false
   },
   "outputs": [],
   "source": []
  }
 ],
 "metadata": {
  "kernelspec": {
   "display_name": "Python 3",
   "language": "python",
   "name": "python3"
  },
  "language_info": {
   "codemirror_mode": {
    "name": "ipython",
    "version": 3
   },
   "file_extension": ".py",
   "mimetype": "text/x-python",
   "name": "python",
   "nbconvert_exporter": "python",
   "pygments_lexer": "ipython3",
   "version": "3.6.2"
  }
 },
 "nbformat": 4,
 "nbformat_minor": 2
}
