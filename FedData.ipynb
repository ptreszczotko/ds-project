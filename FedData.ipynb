{
 "cells": [
  {
   "cell_type": "code",
   "execution_count": 2,
   "metadata": {
    "collapsed": false,
    "deletable": true,
    "editable": true
   },
   "outputs": [],
   "source": [
    "import pandas as pd\n",
    "import numpy as np\n",
    "import matplotlib.pyplot as plt\n",
    "import matplotlib.style as style\n",
    "#import seaborn as sns; sns.set()\n",
    "style.use('fivethirtyeight')\n",
    "#formatting $$\n",
    "import matplotlib.ticker as mtick\n",
    "%matplotlib inline\n",
    "\n",
    "#utility functions\n",
    "from cleanup_utilities import misc\n"
   ]
  },
  {
   "cell_type": "code",
   "execution_count": 3,
   "metadata": {
    "collapsed": false,
    "deletable": true,
    "editable": true
   },
   "outputs": [
    {
     "name": "stdout",
     "output_type": "stream",
     "text": [
      "89952 -rw-r--r--  1 ptreszczotko  staff    44M Sep 13 21:01 ./data/fpdsAllCSV100k.csv\r\n"
     ]
    }
   ],
   "source": [
    "!ls -lash ./data/*.csv"
   ]
  },
  {
   "cell_type": "markdown",
   "metadata": {
    "deletable": true,
    "editable": true
   },
   "source": [
    "# Read in 2016 federal spending data"
   ]
  },
  {
   "cell_type": "code",
   "execution_count": 4,
   "metadata": {
    "collapsed": false,
    "deletable": true,
    "editable": true
   },
   "outputs": [
    {
     "name": "stderr",
     "output_type": "stream",
     "text": [
      "/Library/Frameworks/Python.framework/Versions/3.6/lib/python3.6/site-packages/IPython/core/interactiveshell.py:2717: DtypeWarning:\n",
      "\n",
      "Columns (4,13,15,44) have mixed types. Specify dtype option on import or set low_memory=False.\n",
      "\n"
     ]
    }
   ],
   "source": [
    "#Bring in fpds 2016 data \n",
    "#this didnt work on a laptop with 16GBs of RAM\n",
    "#df = pd.read_csv('./data/fpdsAllCSV.csv',low_memory=True, dtype={'agencyID': str, 'PIID': str, 'modNumber': str, 'transactionNumber': int, 'obligatedAmount': float, 'baseAndExercisedOptionsValue': float, 'baseAndAllOptionsValue': float })\n",
    "df = pd.read_csv('./data/fpdsAllCSV100k.csv',low_memory=True, dtype={'agencyID': str, 'PIID': str, 'modNumber': str, 'transactionNumber': int, 'obligatedAmount': float, 'baseAndExercisedOptionsValue': float, 'baseAndAllOptionsValue': float })\n"
   ]
  },
  {
   "cell_type": "code",
   "execution_count": 5,
   "metadata": {
    "collapsed": false,
    "deletable": true,
    "editable": true
   },
   "outputs": [
    {
     "data": {
      "text/html": [
       "<div>\n",
       "<style>\n",
       "    .dataframe thead tr:only-child th {\n",
       "        text-align: right;\n",
       "    }\n",
       "\n",
       "    .dataframe thead th {\n",
       "        text-align: left;\n",
       "    }\n",
       "\n",
       "    .dataframe tbody tr th {\n",
       "        vertical-align: top;\n",
       "    }\n",
       "</style>\n",
       "<table border=\"1\" class=\"dataframe\">\n",
       "  <thead>\n",
       "    <tr style=\"text-align: right;\">\n",
       "      <th></th>\n",
       "      <th>agencyID</th>\n",
       "      <th>PIID</th>\n",
       "      <th>modNumber</th>\n",
       "      <th>transactionNumber</th>\n",
       "      <th>IDVAgencyID</th>\n",
       "      <th>IDVPIID</th>\n",
       "      <th>IDVModificationNumber</th>\n",
       "      <th>signedDate</th>\n",
       "      <th>effectiveDate</th>\n",
       "      <th>currentCompletionDate</th>\n",
       "      <th>...</th>\n",
       "      <th>placeOfPerformanceCongressionalDistrict</th>\n",
       "      <th>extentCompeted</th>\n",
       "      <th>solicitationProcedures</th>\n",
       "      <th>typeOfSetAside</th>\n",
       "      <th>evaluatedPreference</th>\n",
       "      <th>numberOfOffersReceived</th>\n",
       "      <th>fedBizOpps</th>\n",
       "      <th>createdBy</th>\n",
       "      <th>lastModifiedBy</th>\n",
       "      <th>status</th>\n",
       "    </tr>\n",
       "  </thead>\n",
       "  <tbody>\n",
       "  </tbody>\n",
       "</table>\n",
       "<p>0 rows × 55 columns</p>\n",
       "</div>"
      ],
      "text/plain": [
       "Empty DataFrame\n",
       "Columns: [agencyID, PIID, modNumber, transactionNumber, IDVAgencyID, IDVPIID, IDVModificationNumber, signedDate, effectiveDate, currentCompletionDate, obligatedAmount, baseAndExercisedOptionsValue, baseAndAllOptionsValue, contractingOfficeAgencyID, contractingOfficeID, fundingRequestingAgencyID, fundingRequestingOfficeID, contractActionType, typeOfContractPricing, majorProgramCode, descriptionOfContractRequirement, productOrServiceCode, contractBundling, principalNAICSCode, useOfEPADesignatedProducts, placeOfManufacture, vendorName, vendorAlternateName, vendorLegalOrganizationName, vendorDoingAsBusinessName, countryOfIncorporation, organizationalType, numberOfEmployees, annualRevenue, streetAddress, city, state, ZIPCode, countryCode, congressionalDistrictCode, vendorSiteCode, vendorAlternateSiteCode, DUNSNumber, parentDUNSNumber, placeOfPerformanceZIPCode, placeOfPerformanceCongressionalDistrict, extentCompeted, solicitationProcedures, typeOfSetAside, evaluatedPreference, numberOfOffersReceived, fedBizOpps, createdBy, lastModifiedBy, status]\n",
       "Index: []\n",
       "\n",
       "[0 rows x 55 columns]"
      ]
     },
     "execution_count": 5,
     "metadata": {},
     "output_type": "execute_result"
    }
   ],
   "source": [
    "#how many columns were shifted during the import process?\n",
    "badRows = df[df['status'] != 'F'] # should I drop them?\n",
    "badRows.head(1)"
   ]
  },
  {
   "cell_type": "markdown",
   "metadata": {
    "deletable": true,
    "editable": true
   },
   "source": [
    "# A bit of EDA first..."
   ]
  },
  {
   "cell_type": "markdown",
   "metadata": {
    "deletable": true,
    "editable": true
   },
   "source": [
    "### Look at agencies that spend the most"
   ]
  },
  {
   "cell_type": "code",
   "execution_count": 6,
   "metadata": {
    "collapsed": false,
    "deletable": true,
    "editable": true
   },
   "outputs": [
    {
     "data": {
      "image/png": "[encoded data removed]",
      "text/plain": [
       "<matplotlib.figure.Figure at 0x10a1955c0>"
      ]
     },
     "metadata": {},
     "output_type": "display_data"
    }
   ],
   "source": [
    "top_n = 10\n",
    "mostSpent = df.groupby('agencyID')['obligatedAmount'].sum().sort_values(ascending=False)[:top_n]\n",
    "leastSpent = df.groupby('agencyID')['obligatedAmount'].sum().sort_values(ascending=True)\n",
    "\n",
    "#spending grater than 0\n",
    "leastSpent = leastSpent[leastSpent > 0][:top_n]\n",
    "\n",
    "fig, (ax1, ax2) = plt.subplots(2, 1, figsize=(12, 12))\n",
    "\n",
    "mostSpent.plot(kind='bar', x=mostSpent.index,y=mostSpent,\n",
    "        align='center', width=.5, edgecolor='none', \n",
    "        color='green', ax=ax1, rot=1)\n",
    "\n",
    "ax1.set_title('Top ' + str(top_n) + ' Agencies by spending',fontsize=14, fontweight='bold')\n",
    "ax1.yaxis.set_major_formatter(mtick.FuncFormatter(lambda x, p: misc.millify(x))) \n",
    "\n",
    "leastSpent.plot(kind='bar', x=mostSpent.index,y=mostSpent,\n",
    "        align='center', width=.5, edgecolor='none', \n",
    "        color='gray', ax=ax2, rot=1)\n",
    "\n",
    "ax2.set_title('Bottom ' + str(top_n) + ' Agencies by spending',fontsize=14, fontweight='bold')\n",
    "ax2.yaxis.set_major_formatter(mtick.FuncFormatter(lambda x, p: misc.millify(x))) \n"
   ]
  },
  {
   "cell_type": "markdown",
   "metadata": {
    "deletable": true,
    "editable": true
   },
   "source": [
    "### Convert AgencyIDs to their corresponding names"
   ]
  },
  {
   "cell_type": "code",
   "execution_count": 7,
   "metadata": {
    "collapsed": false,
    "deletable": true,
    "editable": true
   },
   "outputs": [
    {
     "data": {
      "text/plain": [
       "array([], dtype=object)"
      ]
     },
     "execution_count": 7,
     "metadata": {},
     "output_type": "execute_result"
    }
   ],
   "source": [
    "# Get another data set that maps agencyIds to their names\n",
    "## Need to import FIPS-95\n",
    "\n",
    "#import agecncyIds from FIPS 95-2\n",
    "agencyNames = pd.read_csv('https://docs.google.com/spreadsheets/d/e/2PACX-1vR9NFxZhw7nn8RkJ7Y6UIjSbTObYlcNgwtlA9_dnaSFb2wmbEijgyEVCleQl6rwxxq61UhzgLm2Azmq/pub?output=csv', index_col='agencyID')\n",
    "departmentName = pd.read_csv('https://docs.google.com/spreadsheets/d/e/2PACX-1vR9NFxZhw7nn8RkJ7Y6UIjSbTObYlcNgwtlA9_dnaSFb2wmbEijgyEVCleQl6rwxxq61UhzgLm2Azmq/pub?output=csv', index_col='departmentID')\n",
    "\n",
    "#find agencies that are not in the lookup table and add them manually\n",
    "missingAgencyIDs = df[~df['agencyID'].isin(agencyNames.index)]['agencyID'].unique()\n",
    "\n",
    "#proceed when all agencies are filled in\n",
    "missingAgencyIDs"
   ]
  },
  {
   "cell_type": "code",
   "execution_count": 8,
   "metadata": {
    "collapsed": false,
    "deletable": true,
    "editable": true
   },
   "outputs": [],
   "source": [
    "# add agency names to mostSpent data frame\n",
    "mostSpentWithNames = pd.merge(agencyNames,pd.DataFrame(mostSpent), left_index = True, right_index = True)"
   ]
  },
  {
   "cell_type": "code",
   "execution_count": 9,
   "metadata": {
    "collapsed": false,
    "deletable": true,
    "editable": true
   },
   "outputs": [
    {
     "name": "stdout",
     "output_type": "stream",
     "text": [
      "High five! You successfuly sent some data to your account on plotly. View your plot in your browser at https://plot.ly/~ptreszczotko/0 or inside your plot.ly account where it is named 'd3-cloropleth-map'\n"
     ]
    },
    {
     "data": {
      "text/html": [
       "<iframe id=\"igraph\" scrolling=\"no\" style=\"border:none;\" seamless=\"seamless\" src=\"https://plot.ly/~ptreszczotko/0.embed\" height=\"525px\" width=\"100%\"></iframe>"
      ],
      "text/plain": [
       "<plotly.tools.PlotlyDisplay object>"
      ]
     },
     "execution_count": 9,
     "metadata": {},
     "output_type": "execute_result"
    }
   ],
   "source": [
    "import pandas as pd\n",
    "import plotly as plotly\n",
    "#this is a free tier... let others use my api key :)\n",
    "plotly.tools.set_credentials_file(username='ptreszczotko', api_key='Q5qCy6iLHSjNZznTDEXS');\n",
    "\n",
    "graphData = pd.DataFrame(columns=['numberOfContracts'])\n",
    "graphData['numberOfContracts'] = df[df['countryCode'] == 'USA']['state'].value_counts()\n",
    "graphData['obligatedAmountPerState'] = df.groupby(df[df['countryCode'] == 'USA']['state'])['obligatedAmount'].sum()\n",
    "graphData['text'] = graphData.index +'\\'s total obligated amount: '+ graphData['obligatedAmountPerState'].astype(str)\n",
    "\n",
    "data = [ dict(\n",
    "        type='choropleth',\n",
    "        # Colorblind-friendly colors\n",
    "        autocolorscale = True,\n",
    "        locations = graphData.index,\n",
    "        z = graphData['numberOfContracts'],\n",
    "        locationmode = 'USA-states',\n",
    "        text = graphData['text'],\n",
    "        marker = dict(\n",
    "            line = dict (\n",
    "                color = 'rgb(255,255,255)',\n",
    "                width = 2\n",
    "            ) ),\n",
    "        colorbar = dict(\n",
    "            title = \"Number of contracts\")\n",
    "        ) ]\n",
    "\n",
    "layout = dict(\n",
    "        title = 'Number of contracts awarded in FY2016 per state.',\n",
    "        geo = dict(\n",
    "            scope='usa',\n",
    "            projection=dict( type='albers usa' ),\n",
    "            showlakes = True,\n",
    "            lakecolor = 'rgb(255, 255, 255)'))\n",
    "    \n",
    "fig = dict( data=data, layout=layout );\n",
    "plotly.plotly.iplot( fig, filename='d3-cloropleth-map' )\n"
   ]
  },
  {
   "cell_type": "markdown",
   "metadata": {
    "collapsed": true,
    "deletable": true,
    "editable": true
   },
   "source": [
    "![fy2016](./images/FY2016contractsperstate.png \"Fy2016\")"
   ]
  }
 ],
 "metadata": {
  "kernelspec": {
   "display_name": "Python 3",
   "language": "python",
   "name": "python3"
  },
  "language_info": {
   "codemirror_mode": {
    "name": "ipython",
    "version": 3
   },
   "file_extension": ".py",
   "mimetype": "text/x-python",
   "name": "python",
   "nbconvert_exporter": "python",
   "pygments_lexer": "ipython3",
   "version": "3.6.0"
  }
 },
 "nbformat": 4,
 "nbformat_minor": 2
}
